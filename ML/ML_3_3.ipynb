{
 "cells": [
  {
   "cell_type": "code",
   "execution_count": 1,
   "metadata": {
    "collapsed": true
   },
   "outputs": [
    {
     "data": {
      "text/plain": "array([[ 8.4 ,  2.11,  1.41],\n       [13.7 ,  3.53,  2.  ],\n       [15.  ,  3.82,  2.43],\n       [16.2 ,  4.59,  2.63],\n       [17.4 ,  4.59,  2.94],\n       [18.  ,  5.22,  3.32],\n       [18.7 ,  5.2 ,  3.12],\n       [19.  ,  5.64,  3.05],\n       [19.6 ,  5.14,  3.04],\n       [20.  ,  5.08,  2.77],\n       [21.  ,  5.69,  3.56],\n       [21.  ,  5.92,  3.31],\n       [21.  ,  5.69,  3.67],\n       [21.3 ,  6.38,  3.53],\n       [22.  ,  6.11,  3.41],\n       [22.  ,  5.64,  3.52],\n       [22.  ,  6.11,  3.52],\n       [22.  ,  5.88,  3.52],\n       [22.  ,  5.52,  4.  ],\n       [22.5 ,  5.86,  3.62],\n       [22.5 ,  6.79,  3.62],\n       [22.7 ,  5.95,  3.63],\n       [23.  ,  5.22,  3.63],\n       [23.5 ,  6.28,  3.72],\n       [24.  ,  7.29,  3.72],\n       [24.  ,  6.38,  3.82],\n       [24.6 ,  6.73,  4.17],\n       [25.  ,  6.44,  3.68],\n       [25.6 ,  6.56,  4.24],\n       [26.5 ,  7.17,  4.14],\n       [27.3 ,  8.32,  5.14],\n       [27.5 ,  7.17,  4.34],\n       [27.5 ,  7.05,  4.34],\n       [27.5 ,  7.28,  4.57],\n       [28.  ,  7.82,  4.2 ],\n       [28.7 ,  7.59,  4.64],\n       [30.  ,  7.62,  4.77],\n       [32.8 , 10.03,  6.02],\n       [34.5 , 10.26,  6.39],\n       [35.  , 11.49,  7.8 ],\n       [36.5 , 10.88,  6.86],\n       [36.  , 10.61,  6.74],\n       [37.  , 10.84,  6.26],\n       [37.  , 10.57,  6.37],\n       [39.  , 11.14,  7.49],\n       [39.  , 11.14,  6.  ],\n       [39.  , 12.43,  7.35],\n       [40.  , 11.93,  7.11],\n       [40.  , 11.73,  7.22],\n       [40.  , 12.38,  7.46],\n       [40.  , 11.14,  6.63],\n       [42.  , 12.8 ,  6.87],\n       [43.  , 11.93,  7.28],\n       [43.  , 12.51,  7.42],\n       [43.5 , 12.6 ,  8.14],\n       [44.  , 12.49,  7.6 ]])"
     },
     "execution_count": 1,
     "metadata": {},
     "output_type": "execute_result"
    }
   ],
   "source": [
    "\"\"\"\n",
    "특성공학\n",
    "\"\"\"\n",
    "# 다중회귀 multiple regression\n",
    "\n",
    "import pandas as pd\n",
    "df = pd.read_csv('https://bit.ly/perch_csv_data')\n",
    "perch_full = df.to_numpy()\n",
    "perch_full"
   ]
  },
  {
   "cell_type": "code",
   "execution_count": 2,
   "outputs": [],
   "source": [
    "# label\n",
    "import numpy as np\n",
    "\n",
    "perch_weight = np.array([5.9, 32.0, 40.0, 51.5, 70.0, 100.0, 78.0, 80.0, 85.0, 85.0, 110.0,\n",
    "       115.0, 125.0, 130.0, 120.0, 120.0, 130.0, 135.0, 110.0, 130.0,\n",
    "       150.0, 145.0, 150.0, 170.0, 225.0, 145.0, 188.0, 180.0, 197.0,\n",
    "       218.0, 300.0, 260.0, 265.0, 250.0, 250.0, 300.0, 320.0, 514.0,\n",
    "       556.0, 840.0, 685.0, 700.0, 700.0, 690.0, 900.0, 650.0, 820.0,\n",
    "       850.0, 900.0, 1015.0, 820.0, 1100.0, 1000.0, 1100.0, 1000.0,\n",
    "       1000.0])"
   ],
   "metadata": {
    "collapsed": false,
    "pycharm": {
     "name": "#%%\n"
    }
   }
  },
  {
   "cell_type": "code",
   "execution_count": 3,
   "outputs": [],
   "source": [
    "from sklearn.model_selection import train_test_split\n",
    "\n",
    "X_train, X_test, y_train, y_test = train_test_split(perch_full,\n",
    "                                                    perch_weight,\n",
    "                                                    random_state=42)"
   ],
   "metadata": {
    "collapsed": false,
    "pycharm": {
     "name": "#%%\n"
    }
   }
  },
  {
   "cell_type": "code",
   "execution_count": 5,
   "outputs": [
    {
     "data": {
      "text/plain": "array([[2., 3., 4., 6., 9.]])"
     },
     "execution_count": 5,
     "metadata": {},
     "output_type": "execute_result"
    }
   ],
   "source": [
    "# 사이킷런 특성을 만들거나 전처리하기 위한 클래스 >> 변환기\n",
    "# LinearRegression 같은 모델 클래스 >> 추정기\n",
    "\n",
    "from sklearn.preprocessing import PolynomialFeatures\n",
    "\n",
    "poly = PolynomialFeatures(include_bias=False)\n",
    "poly.fit([[2, 3]])\n",
    "poly.transform([[2, 3]])"
   ],
   "metadata": {
    "collapsed": false,
    "pycharm": {
     "name": "#%%\n"
    }
   }
  },
  {
   "cell_type": "code",
   "execution_count": 6,
   "outputs": [
    {
     "data": {
      "text/plain": "(42, 9)"
     },
     "execution_count": 6,
     "metadata": {},
     "output_type": "execute_result"
    }
   ],
   "source": [
    "# poly 이용 perch data 적용\n",
    "poly = PolynomialFeatures(include_bias=False)\n",
    "poly.fit(X_train)\n",
    "train_poly = poly.transform(X_train)\n",
    "train_poly.shape"
   ],
   "metadata": {
    "collapsed": false,
    "pycharm": {
     "name": "#%%\n"
    }
   }
  },
  {
   "cell_type": "code",
   "execution_count": 9,
   "outputs": [
    {
     "data": {
      "text/plain": "['x0', 'x1', 'x2', 'x0^2', 'x0 x1', 'x0 x2', 'x1^2', 'x1 x2', 'x2^2']"
     },
     "execution_count": 9,
     "metadata": {},
     "output_type": "execute_result"
    }
   ],
   "source": [
    "# poly클래스 사용했을 때 특성조합 출력\n",
    "poly.get_feature_names()"
   ],
   "metadata": {
    "collapsed": false,
    "pycharm": {
     "name": "#%%\n"
    }
   }
  },
  {
   "cell_type": "code",
   "execution_count": 10,
   "outputs": [],
   "source": [
    "# train set을 기준으로 test셋 변환\n",
    "test_poly = poly.transform(X_test)"
   ],
   "metadata": {
    "collapsed": false,
    "pycharm": {
     "name": "#%%\n"
    }
   }
  },
  {
   "cell_type": "code",
   "execution_count": 14,
   "outputs": [
    {
     "name": "stdout",
     "output_type": "stream",
     "text": [
      "0.9903183436982124 0.9714559911594087\n"
     ]
    }
   ],
   "source": [
    "# 만든 poly 데이터로 다중회귀모델 훈련\n",
    "\n",
    "from sklearn.linear_model import LinearRegression\n",
    "\n",
    "model_lr = LinearRegression()\n",
    "model_lr.fit(train_poly, y_train)\n",
    "train_score = model_lr.score(train_poly, y_train)\n",
    "test_score = model_lr.score(test_poly, y_test)\n",
    "print(train_score, test_score)"
   ],
   "metadata": {
    "collapsed": false,
    "pycharm": {
     "name": "#%%\n"
    }
   }
  },
  {
   "cell_type": "code",
   "execution_count": 23,
   "outputs": [
    {
     "data": {
      "text/plain": "(42, 55)"
     },
     "execution_count": 23,
     "metadata": {},
     "output_type": "execute_result"
    }
   ],
   "source": [
    "# 특성이 늘어나면 선형회귀의 예측력은 강해진다.\n",
    "# 하지만 Polynomial 클래스의 degree(차수)를 너무 많이 높이면 과적합이 발생한다.\n",
    "poly = PolynomialFeatures(degree=5, include_bias=False)\n",
    "poly.fit(X_train)\n",
    "train_poly = poly.transform(X_train)\n",
    "test_poly = poly.transform(X_test)\n",
    "train_poly.shape"
   ],
   "metadata": {
    "collapsed": false,
    "pycharm": {
     "name": "#%%\n"
    }
   }
  },
  {
   "cell_type": "code",
   "execution_count": 40,
   "outputs": [
    {
     "name": "stdout",
     "output_type": "stream",
     "text": [
      "0.9999999999995844 -144.40578128564164\n"
     ]
    }
   ],
   "source": [
    "# 위에서 차수를 높혀 다시 만든 train_poly로 선형회귀모델 훈련\n",
    "\n",
    "model_lr.fit(train_poly, y_train)\n",
    "train_score = model_lr.score(train_poly, y_train)\n",
    "test_score = model_lr.score(test_poly, y_test)\n",
    "print(train_score, test_score)"
   ],
   "metadata": {
    "collapsed": false,
    "pycharm": {
     "name": "#%%\n"
    }
   }
  },
  {
   "cell_type": "code",
   "execution_count": 25,
   "outputs": [],
   "source": [
    "# test에서 예상대로 과적합 발생\n",
    "# 과적합 방지를 위한 '규제'가 필요\n",
    "# 규제란 선형 회귀 모델에 특성에 곱해지는 계수(기울기)의 크기를 작게 만드는 일\n",
    "# 규제를 적용하기 이전에 특성의 스케일 조정 필요\n",
    "# standard scaler 이용한 scaling (Zscore)\n",
    "\n",
    "from sklearn.preprocessing import StandardScaler\n",
    "ss = StandardScaler()\n",
    "ss.fit(train_poly)\n",
    "train_scaled = ss.transform(train_poly)\n",
    "test_scaled = ss.transform(test_poly)"
   ],
   "metadata": {
    "collapsed": false,
    "pycharm": {
     "name": "#%%\n"
    }
   }
  },
  {
   "cell_type": "code",
   "execution_count": 28,
   "outputs": [
    {
     "name": "stdout",
     "output_type": "stream",
     "text": [
      "0.9896101671037343\n",
      "0.9790693977615391\n"
     ]
    }
   ],
   "source": [
    "# Ridge regression (L2 규제)\n",
    "# 계수를 제곱한 값을 기준으로 규제 적용\n",
    "# 일반적으로 선호\n",
    "\n",
    "from sklearn.linear_model import Ridge\n",
    "ridge = Ridge()\n",
    "ridge.fit(train_scaled, y_train)\n",
    "print(ridge.score(train_scaled, y_train))\n",
    "print(ridge.score(test_scaled, y_test))"
   ],
   "metadata": {
    "collapsed": false,
    "pycharm": {
     "name": "#%%\n"
    }
   }
  },
  {
   "cell_type": "code",
   "execution_count": 30,
   "outputs": [
    {
     "data": {
      "text/plain": "<Figure size 432x288 with 1 Axes>",
      "image/png": "[encoded data removed]"
     },
     "metadata": {
      "needs_background": "light"
     },
     "output_type": "display_data"
    }
   ],
   "source": [
    "# 릿지와 라쏘 모두 alpha라는 하이퍼파라미터 조절 가능\n",
    "# alpha가 커지면 규제 강도가 강해짐\n",
    "# alpha에 따른 R-square 값 시각화\n",
    "\n",
    "import matplotlib.pyplot as plt\n",
    "train_score = []\n",
    "test_score = []\n",
    "\n",
    "alpha_list = [0.001, 0.01, 0.1, 1, 10, 100]\n",
    "for alpha in alpha_list:\n",
    "    ridge = Ridge(alpha=alpha)\n",
    "    ridge.fit(train_scaled, y_train)\n",
    "    train_score.append(ridge.score(train_scaled, y_train))\n",
    "    test_score.append(ridge.score(test_scaled, y_test))\n",
    "\n",
    "plt.plot(np.log10(alpha_list), train_score)\n",
    "plt.plot(np.log10(alpha_list), test_score)\n",
    "plt.xlabel('alpha')\n",
    "plt.ylabel('R-square')\n",
    "plt.show() # alpha 가 0.1 일때 가장 성능이 좋음"
   ],
   "metadata": {
    "collapsed": false,
    "pycharm": {
     "name": "#%%\n"
    }
   }
  },
  {
   "cell_type": "code",
   "execution_count": 37,
   "outputs": [
    {
     "name": "stdout",
     "output_type": "stream",
     "text": [
      "0.989789897208096\n",
      "0.9800593698421886\n"
     ]
    }
   ],
   "source": [
    "# Lasso Regression (L1 규제)\n",
    "\n",
    "from sklearn.linear_model import Lasso\n",
    "lasso = Lasso()\n",
    "lasso.fit(train_scaled, y_train)\n",
    "print(lasso.score(train_scaled, y_train))\n",
    "print(lasso.score(test_scaled, y_test))"
   ],
   "metadata": {
    "collapsed": false,
    "pycharm": {
     "name": "#%%\n"
    }
   }
  },
  {
   "cell_type": "code",
   "execution_count": 38,
   "outputs": [
    {
     "name": "stderr",
     "output_type": "stream",
     "text": [
      "c:\\users\\sysan\\pycharmprojects\\study\\venv\\lib\\site-packages\\sklearn\\linear_model\\_coordinate_descent.py:530: ConvergenceWarning: Objective did not converge. You might want to increase the number of iterations. Duality gap: 18778.69795779461, tolerance: 518.2793833333334\n",
      "  model = cd_fast.enet_coordinate_descent(\n",
      "c:\\users\\sysan\\pycharmprojects\\study\\venv\\lib\\site-packages\\sklearn\\linear_model\\_coordinate_descent.py:530: ConvergenceWarning: Objective did not converge. You might want to increase the number of iterations. Duality gap: 12972.82134540023, tolerance: 518.2793833333334\n",
      "  model = cd_fast.enet_coordinate_descent(\n"
     ]
    },
    {
     "data": {
      "text/plain": "<Figure size 432x288 with 1 Axes>",
      "image/png": "[encoded data removed]"
     },
     "metadata": {
      "needs_background": "light"
     },
     "output_type": "display_data"
    }
   ],
   "source": [
    "import matplotlib.pyplot as plt\n",
    "train_score = []\n",
    "test_score = []\n",
    "\n",
    "alpha_list = [0.001, 0.01, 0.1, 1, 10, 100]\n",
    "for alpha in alpha_list:\n",
    "    lasso = Lasso(alpha=alpha, max_iter=10000)\n",
    "    lasso.fit(train_scaled, y_train)\n",
    "    train_score.append(lasso.score(train_scaled, y_train))\n",
    "    test_score.append(lasso.score(test_scaled, y_test))\n",
    "\n",
    "plt.plot(np.log10(alpha_list), train_score)\n",
    "plt.plot(np.log10(alpha_list), test_score)\n",
    "plt.xlabel('alpha')\n",
    "plt.ylabel('R-square')\n",
    "plt.show() # alpha가 1 일 때 최적의 성능"
   ],
   "metadata": {
    "collapsed": false,
    "pycharm": {
     "name": "#%%\n"
    }
   }
  },
  {
   "cell_type": "code",
   "execution_count": 39,
   "outputs": [
    {
     "data": {
      "text/plain": "52"
     },
     "execution_count": 39,
     "metadata": {},
     "output_type": "execute_result"
    }
   ],
   "source": [
    "# 라쏘모델은 계수를 0으로 만들 수 있는데\n",
    "# 이 때 특성을 사용한 개수를 알 수 있음\n",
    "np.sum(lasso.coef_==0)"
   ],
   "metadata": {
    "collapsed": false,
    "pycharm": {
     "name": "#%%\n"
    }
   }
  },
  {
   "cell_type": "code",
   "execution_count": null,
   "outputs": [],
   "source": [],
   "metadata": {
    "collapsed": false,
    "pycharm": {
     "name": "#%%\n"
    }
   }
  }
 ],
 "metadata": {
  "kernelspec": {
   "display_name": "Python 3",
   "language": "python",
   "name": "python3"
  },
  "language_info": {
   "codemirror_mode": {
    "name": "ipython",
    "version": 2
   },
   "file_extension": ".py",
   "mimetype": "text/x-python",
   "name": "python",
   "nbconvert_exporter": "python",
   "pygments_lexer": "ipython2",
   "version": "2.7.6"
  }
 },
 "nbformat": 4,
 "nbformat_minor": 0
}